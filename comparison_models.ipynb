{
 "cells": [
  {
   "cell_type": "code",
   "execution_count": null,
   "id": "c42cf5ec",
   "metadata": {
    "executionInfo": {
     "elapsed": 331,
     "status": "ok",
     "timestamp": 1748552739203,
     "user": {
      "displayName": "Karol Kleba",
      "userId": "10165785838292759946"
     },
     "user_tz": -120
    },
    "id": "c42cf5ec"
   },
   "outputs": [],
   "source": [
    "import requests\n",
    "import configparser\n",
    "import os"
   ]
  },
  {
   "cell_type": "code",
   "execution_count": null,
   "id": "7c326239",
   "metadata": {},
   "outputs": [],
   "source": [
    "config = configparser.ConfigParser()\n",
    "\n",
    "# Ścieżka do pliku konfiguracyjnego\n",
    "config_file_path = os.path.join(os.getcwd(), \"config.ini\")\n",
    "config.read(config_file_path)\n",
    "\n",
    "try:\n",
    "    OPENROUTER_API_KEY = config['API']['OPENROUTER_API_KEY']\n",
    "    PATH_SICK = config['Paths']['PATH_SICK']\n",
    "    PATH_CONTROL = config['Paths']['PATH_CONTROL']\n",
    "    MODEL_1 = config['Models']['MODEL_1']\n",
    "    MODEL_2 = config['Models']['MODEL_2']\n",
    "    print(\"Plik konfiguracyjny pomyślnie wczytany.\")\n",
    "except KeyError as e:\n",
    "    print(f\"Błąd: Brak klucza konfiguracyjnego: {e}\\nUżywam ustawień domyślnych.\")\n",
    "    OPENROUTER_API_KEY = None\n",
    "    # Ustawienia domyślne, dla jakich tworzono ten skrypt\n",
    "    PATH_SICK = \"data/descriptions_sick.xlsx\"\n",
    "    PATH_CONTROL = \"data/descriptions_control_group.xlsx\"\n",
    "    MODEL_1 = \"google/gemini-2.0-flash-exp:free\"\n",
    "    MODEL_2 = \"deepseek/deepseek-chat-v3-0324:free\""
   ]
  },
  {
   "cell_type": "code",
   "execution_count": null,
   "id": "c27f2649",
   "metadata": {
    "colab": {
     "base_uri": "https://localhost:8080/",
     "height": 211
    },
    "executionInfo": {
     "elapsed": 243,
     "status": "error",
     "timestamp": 1748552741304,
     "user": {
      "displayName": "Karol Kleba",
      "userId": "10165785838292759946"
     },
     "user_tz": -120
    },
    "id": "c27f2649",
    "outputId": "1119f5c5-6a2a-4afb-e6ce-98639ba3c8ee"
   },
   "outputs": [],
   "source": [
    "# Wczytaj plik z lokalizacji\n",
    "with open(\"results/full_m1.txt\", \"r\", encoding=\"utf-8\") as f:\n",
    "    model1_content = f.read()\n",
    "\n",
    "with open(\"results/full_m2.txt\", \"r\", encoding=\"utf-8\") as f:\n",
    "    model2_content = f.read()\n",
    "\n",
    "# Prompt do modelu\n",
    "prompt = f\"\"\"\n",
    "Porównaj wyniki diagnozy HAE zawarte w dwóch poniższych plikach wykonanych przez dwa modele: {MODEL_1} oraz {MODEL_2}.\n",
    "Powiedz, jakie informacje są zawarte w obu plikach.\n",
    "Powiedz jakie są różnice: co występuje w analizie {MODEL_1}, czego nie ma w {MODEL_2} i odwrotnie.\n",
    "Zaznacz wyraźnie, jakie informacje są z jakiego źródła. Nie bierz pod uwagę innych źródeł.\n",
    "\n",
    "INFORMACJE Z PLIKU GEMINI:\n",
    "{model1_content}\n",
    "\n",
    "INFORMACJE Z PLIKU DEEPSEEK:\n",
    "{model2_content}\n",
    "\"\"\""
   ]
  },
  {
   "cell_type": "code",
   "execution_count": null,
   "id": "80818ad0",
   "metadata": {
    "id": "80818ad0"
   },
   "outputs": [
    {
     "name": "stdout",
     "output_type": "stream",
     "text": [
      "### **Porównanie wyników diagnozy HAE w plikach Gemini i DeepSeek**  \n",
      "\n",
      "#### **Podobieństwa (wspólne informacje w obu źródłach):**  \n",
      "1. **Nawracające obrzęki:**  \n",
      "   - Lokalizacja: twarz, kończyny, jama brzuszna, krtań.  \n",
      "   - Czas trwania: 24–72 godziny.  \n",
      "   - Brak pokrzywki i świądu (**Gemini**: brak u wszystkich oprócz jednego przypadku; **DeepSeek**: brak reakcji alergicznych).  \n",
      "   - Nieskuteczność leków przeciwhistaminowych i glikokortykosteroidów.  \n",
      "\n",
      "2. **Objawy żołądkowo-jelitowe:**  \n",
      "   - Silne bóle brzucha, nudności, wymioty, wzdęcia.  \n",
      "   - Mogą przypominać niedrożność jelit.  \n",
      "\n",
      "3. **Czynniki wyzwalające:**  \n",
      "   - Stres, urazy (w tym zabiegi stomatologiczne), infekcje.  \n",
      "\n",
      "4. **Wywiad rodzinny:**  \n",
      "   - Dziedziczny charakter choroby, występowanie podobnych objawów w rodzinie.  \n",
      "\n",
      "5. **Badania laboratoryjne:**  \n",
      "   - Obniżony poziom i aktywność inhibitora C1 esterazy (C1-INH).  \n",
      "   - Niski poziom C4.  \n",
      "   - Testy genetyczne (mutacja w *SERPING1* – w Gemini; brak nazwy genu w DeepSeek, ale wspomniana dziedziczność).  \n",
      "\n",
      "6. **Obrzęk krtani:**  \n",
      "   - Stan zagrażający życiu, wymagający interwencji medycznej.  \n",
      "\n",
      "7. **Klasyfikacja istotności cech:**  \n",
      "   - Wysoka istotność: C1-INH, C4, brak reakcji na leki przeciwalergiczne, dziedziczność.  \n",
      "   - Średnia: bóle brzucha, obrzęk krtani/jamy brzusznej, czynniki wyzwalające.  \n",
      "   - Niska: erythema marginatum (tylko w Gemini).  \n",
      "\n",
      "---\n",
      "\n",
      "### **Różnice między analizami:**\n",
      "(Zaznaczone, co występuje tylko w jednym źródle)\n",
      "\n",
      "#### **Tylko w Gemini:**  \n",
      "1. **Erythema marginatum** – rumień obrączkowaty, nieswędzący, który może występować w HAE, ale nie jest kluczowy do diagnozy.  \n",
      "2. **Dokładniejszy opis różnic względem grupy kontrolnej** – np. w grupie kontrolnej obrzęki są sporadyczne i alergiczne.  \n",
      "3. **Szczegółowe kroki diagnostyczne** – w Gemini wymienione są kolejne etapy:  \n",
      "   - Rozpoczęcie od wywiadu, wykluczenie alergii, ocena bólów brzucha, badania laboratoryjne (C1-INH, C4), ewentualne testy genetyczne.  \n",
      "4. **Dokładna lokalizacja obrzęków** – np. wargi, powieki (w DeepSeek jest tylko ogólny opis „twarz”).  \n",
      "\n",
      "#### **Tylko w DeepSeek:**  \n",
      "1. **Bardziej szczegółowa ocena unikalności cech HAE**  \n",
      "   - Wskazanie, że obrzęk jamy brzusznej i krtani występuje rzadko w innych chorobach.  \n",
      "   - Wyraźne rozróżnienie między HAE a chorobami nerek/wątroby/serca, które też mogą powodować obrzęki.  \n",
      "2. **Konkretne metody leczenia**  \n",
      "   - Wymienione leki hamujące bradykininę i koncentrat C1-INH (Gemini skupia się na diagnostyce, a nie terapii).  \n",
      "3. **Brak wspomnienia o erythema marginatum.**  \n",
      "4. **Mniej szczegółowy opis grupy kontrolnej** – w DeepSeek porównanie z innymi chorobami jest bardziej ogólne, nie ma podziału na `descriptions_sick` vs. `descriptions_control`.  \n",
      "\n",
      "---\n",
      "\n",
      "### **Podsumowanie różnic:**  \n",
      "| **Kategoria**          | **Tylko w Gemini**                    | **Tylko w DeepSeek**                  | **Wspólne** |\n",
      "|------------------------|---------------------------------------|---------------------------------------|-------------|\n",
      "| **Objawy**             | Erythema marginatum                 | -                                    | Obrzęki, ból brzucha, brak reakcji na leki przeciwhistaminowe |\n",
      "| **Diagnostyka**        | Szczegółowy opis różnic względem grupy kontrolnej | Konkretne wskazanie, które cechy są unikalne dla HAE | C1-INH, C4, wywiad rodzinny |\n",
      "| **Leczenie**           | -                                    | Leki hamujące bradykininę, koncentrat C1-INH | - |\n",
      "| **Czynniki wyzwalające**| -                                    | Mniejszy nacisk na konkretne czynniki | Stres, urazy, infekcje |\n",
      "| **Genetyka**           | Wspomnienie genu *SERPING1*         | Brak nazwy genu, ale dziedziczność   | Badania genetyczne |\n",
      "\n",
      "**Gemini** skupia się na **szczegółowej diagnostyce różnicowej**, podczas gdy **DeepSeek** kładzie większy nacisk na **unikające dla HAE cechy i metody leczenia**. Obie analizy potwierdzają te same kluczowe elementy: nawracające obrzęki, brak reakcji na standardowe leczenie alergiczne, niski poziom C1-INH i C4 oraz dziedziczny charakter choroby.\n"
     ]
    }
   ],
   "source": [
    "# Wysyłanie zapytania do OpenRouter\n",
    "response = requests.post(\n",
    "    \"https://openrouter.ai/api/v1/chat/completions\",\n",
    "    headers={\n",
    "        \"Authorization\": f\"Bearer {OPENROUTER_API_KEY}\",\n",
    "        \"Content-Type\": \"application/json\"\n",
    "    },\n",
    "    json={\n",
    "        \"model\": MODEL_1,\n",
    "        \"messages\": [\n",
    "            {\"role\": \"user\", \"content\": prompt}\n",
    "        ]\n",
    "    }\n",
    ")\n",
    "\n",
    "# Wyświetl odpowiedź\n",
    "print(response.json()[\"choices\"][0][\"message\"][\"content\"])"
   ]
  },
  {
   "cell_type": "code",
   "execution_count": null,
   "id": "13020d6a",
   "metadata": {},
   "outputs": [],
   "source": [
    "# Save the response content to a file\n",
    "with open(\"comparison/porownanie_modeli.txt\", \"w\", encoding=\"utf-8\") as file:\n",
    "    file.write(response.json()[\"choices\"][0][\"message\"][\"content\"])"
   ]
  }
 ],
 "metadata": {
  "colab": {
   "provenance": []
  },
  "kernelspec": {
   "display_name": "Python 3",
   "language": "python",
   "name": "python3"
  },
  "language_info": {
   "codemirror_mode": {
    "name": "ipython",
    "version": 3
   },
   "file_extension": ".py",
   "mimetype": "text/x-python",
   "name": "python",
   "nbconvert_exporter": "python",
   "pygments_lexer": "ipython3",
   "version": "3.12.2"
  }
 },
 "nbformat": 4,
 "nbformat_minor": 5
}
