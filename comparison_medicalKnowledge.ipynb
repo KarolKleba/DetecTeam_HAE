{
 "cells": [
  {
   "cell_type": "code",
   "execution_count": 2,
   "id": "c42cf5ec",
   "metadata": {
    "executionInfo": {
     "elapsed": 331,
     "status": "ok",
     "timestamp": 1748552739203,
     "user": {
      "displayName": "Karol Kleba",
      "userId": "10165785838292759946"
     },
     "user_tz": -120
    },
    "id": "c42cf5ec"
   },
   "outputs": [],
   "source": [
    "import requests\n",
    "import configparser\n",
    "import os"
   ]
  },
  {
   "cell_type": "code",
   "execution_count": null,
   "id": "0956110a",
   "metadata": {},
   "outputs": [
    {
     "name": "stdout",
     "output_type": "stream",
     "text": [
      "Plik konfiguracyjny pomyślnie wczytany.\n"
     ]
    }
   ],
   "source": [
    "config = configparser.ConfigParser()\n",
    "\n",
    "# Ścieżka do pliku konfiguracyjnego\n",
    "config_file_path = os.path.join(os.getcwd(), \"config.ini\")\n",
    "config.read(config_file_path)\n",
    "\n",
    "try:\n",
    "    OPENROUTER_API_KEY = config['API']['OPENROUTER_API_KEY']\n",
    "    PATH_SICK = config['Paths']['PATH_SICK']\n",
    "    PATH_CONTROL = config['Paths']['PATH_CONTROL']\n",
    "    MODEL_1 = config['Models']['MODEL_1']\n",
    "    MODEL_2 = config['Models']['MODEL_2']\n",
    "    print(\"Plik konfiguracyjny pomyślnie wczytany.\")\n",
    "except KeyError as e:\n",
    "    print(f\"Błąd: Brak klucza konfiguracyjnego: {e}\\nUżywam ustawień domyślnych.\")\n",
    "    OPENROUTER_API_KEY = None\n",
    "    # Ustawienia domyślne, dla jakich tworzono ten skrypt\n",
    "    PATH_SICK = \"data/descriptions_sick.xlsx\"\n",
    "    PATH_CONTROL = \"data/descriptions_control_group.xlsx\"\n",
    "    MODEL_1 = \"google/gemini-2.0-flash-exp:free\"\n",
    "    MODEL_2 = \"deepseek/deepseek-chat-v3-0324:free\""
   ]
  },
  {
   "cell_type": "code",
   "execution_count": null,
   "id": "c27f2649",
   "metadata": {
    "colab": {
     "base_uri": "https://localhost:8080/",
     "height": 211
    },
    "executionInfo": {
     "elapsed": 243,
     "status": "error",
     "timestamp": 1748552741304,
     "user": {
      "displayName": "Karol Kleba",
      "userId": "10165785838292759946"
     },
     "user_tz": -120
    },
    "id": "c27f2649",
    "outputId": "1119f5c5-6a2a-4afb-e6ce-98639ba3c8ee"
   },
   "outputs": [],
   "source": [
    "# Wybór modelu do użycia\n",
    "model = MODEL_1\n",
    "\n",
    "if model == MODEL_1:\n",
    "    input_file = \"results/model1_full.txt\"\n",
    "else:\n",
    "    input_file = \"results/model2_full.txt\"\n",
    "\n",
    "\n",
    "# Wczytaj plik z lokalizacji\n",
    "with open(input_file, \"r\", encoding=\"utf-8\") as f:\n",
    "    file_content = f.read()\n",
    "\n",
    "#Odczytaj plik z opisami zmiennych\n",
    "with open(\"data/disease_data.txt\", \"r\", encoding=\"utf-8\") as file:\n",
    "    disease_data = file.read()"
   ]
  },
  {
   "cell_type": "code",
   "execution_count": null,
   "id": "234c9f4c",
   "metadata": {},
   "outputs": [],
   "source": [
    "# Prompt do modelu\n",
    "prompt = f\"\"\"\n",
    "Porównaj wyniki diagnozy HAE z załączonego pliku do poniższych informacji o chorobie.\n",
    "Powiedz, jakie informacje są zawarte zarówno w pliku, jak i w informacjach poniżej.\n",
    "Powiedz jakie są różnice: co występuje w pliku, a nie jest w informacjach poniżej, i na odwrót.\n",
    "Zaznacz wyraźnie, jakie informacje są z jakiego źródła. Nie bierz pod uwagę innych źródeł.\n",
    "\n",
    "INFORMACJE Z PLIKU:\n",
    "{file_content}\n",
    "\n",
    "INFORMACJE REFERENCYJNE:\n",
    "{disease_data}\n",
    "\"\"\""
   ]
  },
  {
   "cell_type": "code",
   "execution_count": null,
   "id": "80818ad0",
   "metadata": {
    "id": "80818ad0"
   },
   "outputs": [
    {
     "name": "stdout",
     "output_type": "stream",
     "text": [
      "### **Porównanie informacji z pliku i informacji referencyjnych**  \n",
      "\n",
      "#### **Wspólne elementy:**  \n",
      "(Oba źródła zawierają następujące informacje):  \n",
      "\n",
      "1. **Lokalizacja obrzęków:**  \n",
      "   - Twarz (np. wargi, powieki), kończyny, narządy płciowe.  \n",
      "   - Obrzęki narządów wewnętrznych (brzucha) i dróg oddechowych (krtań).  \n",
      "\n",
      "2. **Objawy związane z obrzękiem jamy brzusznej:**  \n",
      "   - Silne bóle brzucha, nudności, wymioty (potencjalnie prowadzące do hospitalizacji).  \n",
      "\n",
      "3. **Charakter ataków:**  \n",
      "   - Nagłe i nieprzewidywalne.  \n",
      "   - Mogą trwać od kilku do kilkudziesięciu godzin/dni (plikt: 24–72 h; źródło referencyjne: 3–5 dni).  \n",
      "\n",
      "4. **Czynniki wyzwalające:**  \n",
      "   - Stres, infekcje, urazy fizyczne, zabiegi chirurgiczne/stomatologiczne.  \n",
      "\n",
      "5. **Brak pokrzywki:**  \n",
      "   - Obrzękom w HAE zwykle nie towarzyszy pokrzywka (w obu źródłach to cecha odróżniająca od alergii).  \n",
      "\n",
      "6. **Ryzyko obrzęku krtani:**  \n",
      "   - Oba źródła podają, że jest to stan zagrażający życiu i wymagający pilnej interwencji.  \n",
      "\n",
      "---\n",
      "\n",
      "#### **Różnice:**  \n",
      "\n",
      "**A) Informacje występujące tylko w pliku, ale nie w źródle referencyjnym:**  \n",
      "\n",
      "1. **Konkretne kryteria czasowe dotyczące obrzęków:**  \n",
      "   - Plik podaje dokładny zakres trwania epizodów (24–72 h), podczas gdy źródło referencyjne jest mniej precyzyjne (3–5 dni).  \n",
      "\n",
      "2. **Nieskuteczność leków przeciwhistaminowych i sterydów:**  \n",
      "   - Plik podkreśla, że w HAE leki przeciwalergiczne i glikokortykosteroidy nie działają. W źródle referencyjnym nie ma tej informacji.  \n",
      "\n",
      "3. **Szczegóły dotyczące zmian skórnych:**  \n",
      "   - Plik wymienia *erythema marginatum* (rumień obrączkowaty, nie swędzący) jako dodatkowy objaw. W źródle referencyjnie jest tylko wzmianka o \"zmianach skórnych\" bez szczegółów.  \n",
      "\n",
      "4. **Badania diagnostyczne (laboratoryjne i genetyczne):**  \n",
      "   - Plik szczegółowo opisuje spadek poziomu C1-INH, aktywności C1-INH, białka C4 oraz mutację *SERPING1*. W źródle referencyjnym brak takich danych.  \n",
      "\n",
      "5. **Wywiad rodzinny jako istotny czynnik:**  \n",
      "   - Plik wyraźnie wskazuje na częste występowanie HAE u krewnych. W źródle referencyjnym brak wzmianki.  \n",
      "\n",
      "6. **Dodatkowe objawy neurologiczne/czuciowe:**  \n",
      "   - Źródło referencyjne wymienia \"drętwienie i pieczenie\", ale plik tego nie uwzględnia.  \n",
      "\n",
      "7. **Stopniowanie istotności cech diagnostycznych:**  \n",
      "   - Plik klasyfikuje cechy jako **wysoka/średnia/niska istotność**, z podziałem na laboratoryjne, kliniczne i genetyczne. W źródle referencyjnym nie ma takiego uszczegółowienia.  \n",
      "\n",
      "---  \n",
      "\n",
      "**B) Informacje występujące tylko w źródle referencyjnym, ale nie w pliku:**  \n",
      "\n",
      "1. **Częstotliwość ataków:**  \n",
      "   - Źródło podaje, że mogą występować \"nawet kilkadziesiąt razy w roku\". W pliku nie określono tego wprost.  \n",
      "\n",
      "2. **Możliwość występowania ataków bez wyraźnej przyczyny:**  \n",
      "   - W źródle podkreśla się, że ataki mogą pojawiać się samoistnie. Plik skupia się głównie na czynnikach wyzwalających (stres, infekcje).  \n",
      "\n",
      "3. **Wpływ leków:**  \n",
      "   - Źródło wspomina o \"niektórych przyjmowanych lekach\" jako czynniku prowokującym ataki. W pliku nie ma wzmianki na ten temat.  \n",
      "\n",
      "---\n",
      "\n",
      "### **Podsumowanie kluczowych różnic:**  \n",
      "\n",
      "| Kategoria | **Tylko w pliku** | **Tylko w źródle referencyjnym** |  \n",
      "|-----------|------------------|----------------------------------|  \n",
      "| **Diagnostyka** | Spadek C1-INH, C4, mutacja *SERPING1*, klasyfikacja istotności cech | Brak szczegółów |  \n",
      "| **Leczenie** | Nieskuteczność leków przeciwhistaminowych i sterydów | Niektóre leki mogą prowokować ataki |  \n",
      "| **Objawy dodatkowe** | *Erythema marginatum* | Drętwienie, pieczenie |  \n",
      "| **Cechy dziedziczenia** | Wywiad rodzinny silnie podkreślony | Brak wzmianki |  \n",
      "| **Charakterystyka ataków** | 24–72 h | 3–5 dni, \"do kilkudziesięciu rocznie\" |  \n",
      "\n",
      "**Wniosek:**  \n",
      "Plik zawiera znacznie więcej szczegółów diagnostycznych (laboratoryjnych, genetycznych) oraz analizę różnicującą HAE od innych schorzeń. Źródło referencyjne skupia się natomiast na ogólnym opisie objawów i czynników ryzyka, bez zagłębiania się w mechanizmy patofizjologiczne. Mimo różnic w detalach, oba źródła są spójne co do głównych cech HAE.\n"
     ]
    }
   ],
   "source": [
    "# Wysyłanie zapytania do OpenRouter\n",
    "response = requests.post(\n",
    "    \"https://openrouter.ai/api/v1/chat/completions\",\n",
    "    headers={\n",
    "        \"Authorization\": f\"Bearer {OPENROUTER_API_KEY}\",\n",
    "        \"Content-Type\": \"application/json\"\n",
    "    },\n",
    "    json={\n",
    "        \"model\": model,\n",
    "        \"messages\": [\n",
    "            {\"role\": \"user\", \"content\": prompt}\n",
    "        ]\n",
    "    }\n",
    ")\n",
    "\n",
    "# Wyświetl odpowiedź\n",
    "print(response.json()[\"choices\"][0][\"message\"][\"content\"])"
   ]
  },
  {
   "cell_type": "code",
   "execution_count": null,
   "id": "17fbfdd3",
   "metadata": {},
   "outputs": [],
   "source": [
    "if model == MODEL_1:\n",
    "    output_file = \"comparison/porownanie_m1.txt\"\n",
    "else:\n",
    "    output_file = \"comparison/porownanie_m2.txt\"\n",
    "\n",
    "with open(output_file, \"w\", encoding=\"utf-8\") as file:\n",
    "    file.write(response.json()[\"choices\"][0][\"message\"][\"content\"])"
   ]
  }
 ],
 "metadata": {
  "colab": {
   "provenance": []
  },
  "kernelspec": {
   "display_name": "Python 3",
   "language": "python",
   "name": "python3"
  },
  "language_info": {
   "codemirror_mode": {
    "name": "ipython",
    "version": 3
   },
   "file_extension": ".py",
   "mimetype": "text/x-python",
   "name": "python",
   "nbconvert_exporter": "python",
   "pygments_lexer": "ipython3",
   "version": "3.12.2"
  }
 },
 "nbformat": 4,
 "nbformat_minor": 5
}
